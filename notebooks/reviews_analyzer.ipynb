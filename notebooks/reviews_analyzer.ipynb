{
 "cells": [
  {
   "cell_type": "code",
   "execution_count": 36,
   "id": "f4d875c4",
   "metadata": {},
   "outputs": [],
   "source": [
    "import pandas as pd\n",
    "import numpy as np\n",
    "\n",
    "import matplotlib.pyplot as plt\n",
    "import matplotlib.cm as cm\n",
    "import matplotlib\n",
    "\n",
    "from sklearn.feature_extraction.text import TfidfVectorizer, CountVectorizer\n",
    "from sklearn.decomposition import LatentDirichletAllocation,TruncatedSVD\n",
    "from sklearn.cluster import KMeans\n",
    "from sklearn.preprocessing import MinMaxScaler\n",
    "from sklearn.manifold import TSNE\n",
    "\n",
    "from sklearn.linear_model import LogisticRegression\n",
    "from sklearn.naive_bayes import MultinomialNB\n",
    "from sklearn.svm import LinearSVC\n",
    "from sklearn.model_selection import train_test_split\n",
    "from sklearn.model_selection import cross_val_score\n",
    "from sklearn.ensemble import VotingClassifier\n",
    "\n",
    "from nltk.stem.snowball import SnowballStemmer\n",
    "from nltk.tokenize import RegexpTokenizer"
   ]
  },
  {
   "cell_type": "code",
   "execution_count": 13,
   "id": "6fd76502",
   "metadata": {},
   "outputs": [],
   "source": [
    "RANDOM_STATE = 26\n",
    "TEST_SPLIT = 0.2\n",
    "PATH = \"../data/Video_Games_5.json\""
   ]
  },
  {
   "cell_type": "code",
   "execution_count": 14,
   "id": "f892e1ed",
   "metadata": {
    "scrolled": false
   },
   "outputs": [
    {
     "data": {
      "text/html": [
       "<div>\n",
       "<style scoped>\n",
       "    .dataframe tbody tr th:only-of-type {\n",
       "        vertical-align: middle;\n",
       "    }\n",
       "\n",
       "    .dataframe tbody tr th {\n",
       "        vertical-align: top;\n",
       "    }\n",
       "\n",
       "    .dataframe thead th {\n",
       "        text-align: right;\n",
       "    }\n",
       "</style>\n",
       "<table border=\"1\" class=\"dataframe\">\n",
       "  <thead>\n",
       "    <tr style=\"text-align: right;\">\n",
       "      <th></th>\n",
       "      <th>overall</th>\n",
       "      <th>verified</th>\n",
       "      <th>reviewTime</th>\n",
       "      <th>reviewerID</th>\n",
       "      <th>asin</th>\n",
       "      <th>reviewerName</th>\n",
       "      <th>reviewText</th>\n",
       "      <th>summary</th>\n",
       "      <th>unixReviewTime</th>\n",
       "      <th>vote</th>\n",
       "      <th>style</th>\n",
       "      <th>image</th>\n",
       "    </tr>\n",
       "  </thead>\n",
       "  <tbody>\n",
       "    <tr>\n",
       "      <th>0</th>\n",
       "      <td>5</td>\n",
       "      <td>True</td>\n",
       "      <td>10 17, 2015</td>\n",
       "      <td>A1HP7NVNPFMA4N</td>\n",
       "      <td>0700026657</td>\n",
       "      <td>Ambrosia075</td>\n",
       "      <td>This game is a bit hard to get the hang of, bu...</td>\n",
       "      <td>but when you do it's great.</td>\n",
       "      <td>1445040000</td>\n",
       "      <td>NaN</td>\n",
       "      <td>NaN</td>\n",
       "      <td>NaN</td>\n",
       "    </tr>\n",
       "    <tr>\n",
       "      <th>1</th>\n",
       "      <td>4</td>\n",
       "      <td>False</td>\n",
       "      <td>07 27, 2015</td>\n",
       "      <td>A1JGAP0185YJI6</td>\n",
       "      <td>0700026657</td>\n",
       "      <td>travis</td>\n",
       "      <td>I played it a while but it was alright. The st...</td>\n",
       "      <td>But in spite of that it was fun, I liked it</td>\n",
       "      <td>1437955200</td>\n",
       "      <td>NaN</td>\n",
       "      <td>NaN</td>\n",
       "      <td>NaN</td>\n",
       "    </tr>\n",
       "    <tr>\n",
       "      <th>2</th>\n",
       "      <td>3</td>\n",
       "      <td>True</td>\n",
       "      <td>02 23, 2015</td>\n",
       "      <td>A1YJWEXHQBWK2B</td>\n",
       "      <td>0700026657</td>\n",
       "      <td>Vincent G. Mezera</td>\n",
       "      <td>ok game.</td>\n",
       "      <td>Three Stars</td>\n",
       "      <td>1424649600</td>\n",
       "      <td>NaN</td>\n",
       "      <td>NaN</td>\n",
       "      <td>NaN</td>\n",
       "    </tr>\n",
       "    <tr>\n",
       "      <th>3</th>\n",
       "      <td>2</td>\n",
       "      <td>True</td>\n",
       "      <td>02 20, 2015</td>\n",
       "      <td>A2204E1TH211HT</td>\n",
       "      <td>0700026657</td>\n",
       "      <td>Grandma KR</td>\n",
       "      <td>found the game a bit too complicated, not what...</td>\n",
       "      <td>Two Stars</td>\n",
       "      <td>1424390400</td>\n",
       "      <td>NaN</td>\n",
       "      <td>NaN</td>\n",
       "      <td>NaN</td>\n",
       "    </tr>\n",
       "    <tr>\n",
       "      <th>4</th>\n",
       "      <td>5</td>\n",
       "      <td>True</td>\n",
       "      <td>12 25, 2014</td>\n",
       "      <td>A2RF5B5H74JLPE</td>\n",
       "      <td>0700026657</td>\n",
       "      <td>jon</td>\n",
       "      <td>great game, I love it and have played it since...</td>\n",
       "      <td>love this game</td>\n",
       "      <td>1419465600</td>\n",
       "      <td>NaN</td>\n",
       "      <td>NaN</td>\n",
       "      <td>NaN</td>\n",
       "    </tr>\n",
       "  </tbody>\n",
       "</table>\n",
       "</div>"
      ],
      "text/plain": [
       "   overall  verified   reviewTime      reviewerID        asin  \\\n",
       "0        5      True  10 17, 2015  A1HP7NVNPFMA4N  0700026657   \n",
       "1        4     False  07 27, 2015  A1JGAP0185YJI6  0700026657   \n",
       "2        3      True  02 23, 2015  A1YJWEXHQBWK2B  0700026657   \n",
       "3        2      True  02 20, 2015  A2204E1TH211HT  0700026657   \n",
       "4        5      True  12 25, 2014  A2RF5B5H74JLPE  0700026657   \n",
       "\n",
       "        reviewerName                                         reviewText  \\\n",
       "0        Ambrosia075  This game is a bit hard to get the hang of, bu...   \n",
       "1             travis  I played it a while but it was alright. The st...   \n",
       "2  Vincent G. Mezera                                           ok game.   \n",
       "3         Grandma KR  found the game a bit too complicated, not what...   \n",
       "4                jon  great game, I love it and have played it since...   \n",
       "\n",
       "                                       summary  unixReviewTime vote style  \\\n",
       "0                  but when you do it's great.      1445040000  NaN   NaN   \n",
       "1  But in spite of that it was fun, I liked it      1437955200  NaN   NaN   \n",
       "2                                  Three Stars      1424649600  NaN   NaN   \n",
       "3                                    Two Stars      1424390400  NaN   NaN   \n",
       "4                               love this game      1419465600  NaN   NaN   \n",
       "\n",
       "  image  \n",
       "0   NaN  \n",
       "1   NaN  \n",
       "2   NaN  \n",
       "3   NaN  \n",
       "4   NaN  "
      ]
     },
     "execution_count": 14,
     "metadata": {},
     "output_type": "execute_result"
    }
   ],
   "source": [
    "data = pd.read_json(PATH, lines = True) # , encoding=\"ISO-8859-1\"\n",
    "data.head()"
   ]
  },
  {
   "cell_type": "code",
   "execution_count": 5,
   "id": "45a12fa1",
   "metadata": {},
   "outputs": [
    {
     "name": "stdout",
     "output_type": "stream",
     "text": [
      "<class 'pandas.core.frame.DataFrame'>\n",
      "RangeIndex: 497577 entries, 0 to 497576\n",
      "Data columns (total 12 columns):\n",
      " #   Column          Non-Null Count   Dtype \n",
      "---  ------          --------------   ----- \n",
      " 0   overall         497577 non-null  int64 \n",
      " 1   verified        497577 non-null  bool  \n",
      " 2   reviewTime      497577 non-null  object\n",
      " 3   reviewerID      497577 non-null  object\n",
      " 4   asin            497577 non-null  object\n",
      " 5   reviewerName    497501 non-null  object\n",
      " 6   reviewText      497419 non-null  object\n",
      " 7   summary         497468 non-null  object\n",
      " 8   unixReviewTime  497577 non-null  int64 \n",
      " 9   vote            107793 non-null  object\n",
      " 10  style           289237 non-null  object\n",
      " 11  image           3634 non-null    object\n",
      "dtypes: bool(1), int64(2), object(9)\n",
      "memory usage: 42.2+ MB\n"
     ]
    }
   ],
   "source": [
    "data.info()"
   ]
  },
  {
   "cell_type": "code",
   "execution_count": 6,
   "id": "736da207",
   "metadata": {},
   "outputs": [],
   "source": [
    "cols_of_interest = ['overall','reviewText', 'summary']"
   ]
  },
  {
   "cell_type": "code",
   "execution_count": 7,
   "id": "7a35d3b7",
   "metadata": {},
   "outputs": [
    {
     "data": {
      "text/html": [
       "<div>\n",
       "<style scoped>\n",
       "    .dataframe tbody tr th:only-of-type {\n",
       "        vertical-align: middle;\n",
       "    }\n",
       "\n",
       "    .dataframe tbody tr th {\n",
       "        vertical-align: top;\n",
       "    }\n",
       "\n",
       "    .dataframe thead th {\n",
       "        text-align: right;\n",
       "    }\n",
       "</style>\n",
       "<table border=\"1\" class=\"dataframe\">\n",
       "  <thead>\n",
       "    <tr style=\"text-align: right;\">\n",
       "      <th></th>\n",
       "      <th>overall</th>\n",
       "      <th>reviewText</th>\n",
       "      <th>summary</th>\n",
       "    </tr>\n",
       "  </thead>\n",
       "  <tbody>\n",
       "    <tr>\n",
       "      <th>0</th>\n",
       "      <td>5</td>\n",
       "      <td>This game is a bit hard to get the hang of, bu...</td>\n",
       "      <td>but when you do it's great.</td>\n",
       "    </tr>\n",
       "    <tr>\n",
       "      <th>1</th>\n",
       "      <td>4</td>\n",
       "      <td>I played it a while but it was alright. The st...</td>\n",
       "      <td>But in spite of that it was fun, I liked it</td>\n",
       "    </tr>\n",
       "    <tr>\n",
       "      <th>2</th>\n",
       "      <td>3</td>\n",
       "      <td>ok game.</td>\n",
       "      <td>Three Stars</td>\n",
       "    </tr>\n",
       "    <tr>\n",
       "      <th>3</th>\n",
       "      <td>2</td>\n",
       "      <td>found the game a bit too complicated, not what...</td>\n",
       "      <td>Two Stars</td>\n",
       "    </tr>\n",
       "    <tr>\n",
       "      <th>4</th>\n",
       "      <td>5</td>\n",
       "      <td>great game, I love it and have played it since...</td>\n",
       "      <td>love this game</td>\n",
       "    </tr>\n",
       "  </tbody>\n",
       "</table>\n",
       "</div>"
      ],
      "text/plain": [
       "   overall                                         reviewText  \\\n",
       "0        5  This game is a bit hard to get the hang of, bu...   \n",
       "1        4  I played it a while but it was alright. The st...   \n",
       "2        3                                           ok game.   \n",
       "3        2  found the game a bit too complicated, not what...   \n",
       "4        5  great game, I love it and have played it since...   \n",
       "\n",
       "                                       summary  \n",
       "0                  but when you do it's great.  \n",
       "1  But in spite of that it was fun, I liked it  \n",
       "2                                  Three Stars  \n",
       "3                                    Two Stars  \n",
       "4                               love this game  "
      ]
     },
     "execution_count": 7,
     "metadata": {},
     "output_type": "execute_result"
    }
   ],
   "source": [
    "data_cleaned = data[cols_of_interest]\n",
    "data_cleaned.head()"
   ]
  },
  {
   "cell_type": "code",
   "execution_count": 8,
   "id": "39fbdac1",
   "metadata": {},
   "outputs": [
    {
     "data": {
      "text/plain": [
       "(array([5, 4, 3, 2, 1], dtype=int64), (497577, 3))"
      ]
     },
     "execution_count": 8,
     "metadata": {},
     "output_type": "execute_result"
    }
   ],
   "source": [
    "data_cleaned.overall.unique(), data_cleaned.shape"
   ]
  },
  {
   "cell_type": "code",
   "execution_count": 9,
   "id": "fb52f26c",
   "metadata": {},
   "outputs": [
    {
     "name": "stdout",
     "output_type": "stream",
     "text": [
      "<class 'pandas.core.frame.DataFrame'>\n",
      "Int64Index: 497316 entries, 0 to 497576\n",
      "Data columns (total 3 columns):\n",
      " #   Column      Non-Null Count   Dtype \n",
      "---  ------      --------------   ----- \n",
      " 0   overall     497316 non-null  int64 \n",
      " 1   reviewText  497316 non-null  object\n",
      " 2   summary     497316 non-null  object\n",
      "dtypes: int64(1), object(2)\n",
      "memory usage: 15.2+ MB\n"
     ]
    }
   ],
   "source": [
    "data_cleaned = data_cleaned.dropna()\n",
    "data_cleaned.info()"
   ]
  },
  {
   "cell_type": "code",
   "execution_count": 10,
   "id": "e27b9f52",
   "metadata": {},
   "outputs": [],
   "source": [
    "df = data_cleaned.copy()"
   ]
  },
  {
   "cell_type": "code",
   "execution_count": 11,
   "id": "c9eac1f0",
   "metadata": {},
   "outputs": [
    {
     "data": {
      "text/plain": [
       "<AxesSubplot:>"
      ]
     },
     "execution_count": 11,
     "metadata": {},
     "output_type": "execute_result"
    },
    {
     "data": {
      "image/png": "[encoded data removed]",
      "text/plain": [
       "<Figure size 640x480 with 1 Axes>"
      ]
     },
     "metadata": {},
     "output_type": "display_data"
    }
   ],
   "source": [
    "df['overall'].hist()"
   ]
  },
  {
   "cell_type": "code",
   "execution_count": 23,
   "id": "04fb4339",
   "metadata": {},
   "outputs": [
    {
     "name": "stderr",
     "output_type": "stream",
     "text": [
      "C:\\Users\\rov_f\\AppData\\Local\\Temp\\ipykernel_17052\\813303242.py:28: FutureWarning: Passing a negative integer is deprecated in version 1.0 and will not be supported in future version. Instead, use None to not limit the column width.\n",
      "  pd.set_option('display.max_colwidth', -1)\n"
     ]
    },
    {
     "data": {
      "text/html": [
       "<div>\n",
       "<style scoped>\n",
       "    .dataframe tbody tr th:only-of-type {\n",
       "        vertical-align: middle;\n",
       "    }\n",
       "\n",
       "    .dataframe tbody tr th {\n",
       "        vertical-align: top;\n",
       "    }\n",
       "\n",
       "    .dataframe thead th {\n",
       "        text-align: right;\n",
       "    }\n",
       "</style>\n",
       "<table border=\"1\" class=\"dataframe\">\n",
       "  <thead>\n",
       "    <tr style=\"text-align: right;\">\n",
       "      <th></th>\n",
       "      <th></th>\n",
       "      <th>overall</th>\n",
       "      <th>reviewText</th>\n",
       "      <th>target</th>\n",
       "    </tr>\n",
       "    <tr>\n",
       "      <th>target</th>\n",
       "      <th></th>\n",
       "      <th></th>\n",
       "      <th></th>\n",
       "      <th></th>\n",
       "    </tr>\n",
       "  </thead>\n",
       "  <tbody>\n",
       "    <tr>\n",
       "      <th rowspan=\"5\" valign=\"top\">bad</th>\n",
       "      <th>455722</th>\n",
       "      <td>1</td>\n",
       "      <td>A friend purchased this game for me recently to try, since he has been playing it for approximately two months. I played the game for about two weeks, from about May 10th to 26th (2008).\\n\\nClient Stability and Server Availability\\nIn general, the game engine is about as sophisticated as many three to four year old games - regarding graphics, audio, and general complexity. So, it runs very well even on older hardware.\\n\\nThe servers are brought down fairly regularly. I didn't play every day, but it seems as though the servers were down every day, sometimes for several hours, sometimes just for one.\\n\\nAudio/Visual\\nThis game looks and feels three or fours years old. It's prosaic and unremarkable in this department. Really nothing worth mentioning.\\n\\nGame Play\\nEve Online can be summarized as \"the greatest experience for hardcore, long time MMO players\". At the same time, one can easily refer to it as \"the most boring, time sink filled, banal and repetitious computer gaming experience ever fabricated in mind or reality\". Unless you're a masochist this game is not for you. In my humble opinion.\\n\\nSupport and Service\\nYour petitions for support/assistance are only handled during scheduled outages. Even so, it routinely takes ten or more hours for issues to be addressed, and roughly half the time the issues are not resolved. Once my character became \"locked\", that is, the client would crash whenever I attempted to log into it. I was told two days after submitting my petition that this was due to a bug that required game master intervention, and that they had corrected it. However, all of my resources that I had spent a week collecting were missing. I politely requested assistance acquiring the lost items (a typical and benign problem in all MMOs). I was denied, told that it was not in the EULA (odd that they would refer to the end user license agreement for software for this issue) and - get this - actually told by support that I can feel free to cancel my subscription. Heh. Amazing customer service there. So I did.\\n\\nConclusion\\nOld technology and graphics, constant outages, poor audio, repetitious game play filled with outdated time sinks, and extremely poor customer support. I recommend avoiding this game. Mediocre in every way, very poor support</td>\n",
       "      <td>bad</td>\n",
       "    </tr>\n",
       "    <tr>\n",
       "      <th>434486</th>\n",
       "      <td>2</td>\n",
       "      <td>For the average gamer, this just doesn't work well.  Don't bother buying unless you are you willing to put down the extra money for a OpenWheeler Racing Cockpit.  First of all, you need to brace this wheel down with the clamp underneath.  I thought we would use our wooden tv tray (it is pretty heavy)...no, it doesn't go over the brace pieces underneath, so it is leaning very far forward and gets the tv tray off balance.  Next, the pedals will not stay where they should be, I even tried putting a rug mat under them but they still move with normal pressure.  Also this is NOT Bluetooth or wireless. The USB cord is maybe 4 foot long and if you have your Xbox in a console with your other tv components, you are sitting right in front of the tv.  Just not the greatest setup.\\n\\nOn a positive note, if my husband held the steering wheel in place, it was actually really fun to place with the driving games and pretty responsive.  That is also not a realistic setup.  So for me, without buying whole lot more toys, this just isn't a reasonable a purchase.\\n\\nCons:\\nNot wireless..USB cord is about 4 feet long.\\nMust have a very sturdy and stable tablet with nothing underneath to attach to, will not work without latching it down\\nPedals move regardless of what you put underneath, might work better on carpet, but I don't have that option\\nTo truly enjoy you need to purchase a cockpit chair for another $400\\n\\nPros:\\nVery responsive wheel\\nFull controls with directional pad\\nPaddle shifter Don't bother unless you want to buy an OpenWheeler Cockpit too</td>\n",
       "      <td>bad</td>\n",
       "    </tr>\n",
       "    <tr>\n",
       "      <th>496978</th>\n",
       "      <td>2</td>\n",
       "      <td>I hadn't bought an NBA2k game since 2k11. Wow, was I surprised at how the series changed...and not for the better. I will say that if you are going to choose between 17 and 18 then definitely pick 17 because the series is only getting worse. Not impressed</td>\n",
       "      <td>bad</td>\n",
       "    </tr>\n",
       "    <tr>\n",
       "      <th>123496</th>\n",
       "      <td>1</td>\n",
       "      <td>The $50 I shelled out for this game was a total waste of money. The graphics are mediocre (I'm running an Nvidia 8800 GTS, so it's not my card). Gameplay is lame, and there are bugs. The main one is the in-game Save key(F5) doesn't work.  I tried re-mapping the key, but it didn't help. Gameplay is choppy. I ran CRYSIS and BIOSHOCK with no problems. Pass this one by. Don't Buy this Game!</td>\n",
       "      <td>bad</td>\n",
       "    </tr>\n",
       "    <tr>\n",
       "      <th>118288</th>\n",
       "      <td>1</td>\n",
       "      <td>You purchased this item on February 27, 2012.\\n\\nI bought this keyboard and loved the looks of it and the feel of it, but I could not get Windows 7 to recognize it.\\nI downloaded the current drivers from the website.\\nI contacted the company for tech support, but got no response after 2 weeks have still not gotten a response from them.\\nThe keyboard would light up but when I tried to type something I got nothing, it was like I had nothing connected to my system.\\nI tried USB 2.0 and 3.0 slots still nothing.\\nNot sure if I got a bad keyboard or if there is something else going on. Bought it and had to return it.</td>\n",
       "      <td>bad</td>\n",
       "    </tr>\n",
       "  </tbody>\n",
       "</table>\n",
       "</div>"
      ],
      "text/plain": [
       "               overall  \\\n",
       "target                   \n",
       "bad    455722  1         \n",
       "       434486  2         \n",
       "       496978  2         \n",
       "       123496  1         \n",
       "       118288  1         \n",
       "\n",
       "                                                                                                                                                                                                                                                                                                                                                                                                                                                                                                                                                                                                                                                                                                                                                                                                                                                                                                                                                                                                                                                                                                                                                                                                                                                                                                                                                                                                                                                                                                                                                                                                                                                                                                                                                                                                                                                                                                                                                                                                                                                                                                                                                                                                                                                                                                                                                                                     reviewText  \\\n",
       "target                                                                                                                                                                                                                                                                                                                                                                                                                                                                                                                                                                                                                                                                                                                                                                                                                                                                                                                                                                                                                                                                                                                                                                                                                                                                                                                                                                                                                                                                                                                                                                                                                                                                                                                                                                                                                                                                                                                                                                                                                                                                                                                                                                                                                                                                                                                                                                                            \n",
       "bad    455722  A friend purchased this game for me recently to try, since he has been playing it for approximately two months. I played the game for about two weeks, from about May 10th to 26th (2008).\\n\\nClient Stability and Server Availability\\nIn general, the game engine is about as sophisticated as many three to four year old games - regarding graphics, audio, and general complexity. So, it runs very well even on older hardware.\\n\\nThe servers are brought down fairly regularly. I didn't play every day, but it seems as though the servers were down every day, sometimes for several hours, sometimes just for one.\\n\\nAudio/Visual\\nThis game looks and feels three or fours years old. It's prosaic and unremarkable in this department. Really nothing worth mentioning.\\n\\nGame Play\\nEve Online can be summarized as \"the greatest experience for hardcore, long time MMO players\". At the same time, one can easily refer to it as \"the most boring, time sink filled, banal and repetitious computer gaming experience ever fabricated in mind or reality\". Unless you're a masochist this game is not for you. In my humble opinion.\\n\\nSupport and Service\\nYour petitions for support/assistance are only handled during scheduled outages. Even so, it routinely takes ten or more hours for issues to be addressed, and roughly half the time the issues are not resolved. Once my character became \"locked\", that is, the client would crash whenever I attempted to log into it. I was told two days after submitting my petition that this was due to a bug that required game master intervention, and that they had corrected it. However, all of my resources that I had spent a week collecting were missing. I politely requested assistance acquiring the lost items (a typical and benign problem in all MMOs). I was denied, told that it was not in the EULA (odd that they would refer to the end user license agreement for software for this issue) and - get this - actually told by support that I can feel free to cancel my subscription. Heh. Amazing customer service there. So I did.\\n\\nConclusion\\nOld technology and graphics, constant outages, poor audio, repetitious game play filled with outdated time sinks, and extremely poor customer support. I recommend avoiding this game. Mediocre in every way, very poor support   \n",
       "       434486  For the average gamer, this just doesn't work well.  Don't bother buying unless you are you willing to put down the extra money for a OpenWheeler Racing Cockpit.  First of all, you need to brace this wheel down with the clamp underneath.  I thought we would use our wooden tv tray (it is pretty heavy)...no, it doesn't go over the brace pieces underneath, so it is leaning very far forward and gets the tv tray off balance.  Next, the pedals will not stay where they should be, I even tried putting a rug mat under them but they still move with normal pressure.  Also this is NOT Bluetooth or wireless. The USB cord is maybe 4 foot long and if you have your Xbox in a console with your other tv components, you are sitting right in front of the tv.  Just not the greatest setup.\\n\\nOn a positive note, if my husband held the steering wheel in place, it was actually really fun to place with the driving games and pretty responsive.  That is also not a realistic setup.  So for me, without buying whole lot more toys, this just isn't a reasonable a purchase.\\n\\nCons:\\nNot wireless..USB cord is about 4 feet long.\\nMust have a very sturdy and stable tablet with nothing underneath to attach to, will not work without latching it down\\nPedals move regardless of what you put underneath, might work better on carpet, but I don't have that option\\nTo truly enjoy you need to purchase a cockpit chair for another $400\\n\\nPros:\\nVery responsive wheel\\nFull controls with directional pad\\nPaddle shifter Don't bother unless you want to buy an OpenWheeler Cockpit too                                                                                                                                                                                                                                                                                                                                                                                                                                                                                                                                                                                                                                                                                                                                                            \n",
       "       496978  I hadn't bought an NBA2k game since 2k11. Wow, was I surprised at how the series changed...and not for the better. I will say that if you are going to choose between 17 and 18 then definitely pick 17 because the series is only getting worse. Not impressed                                                                                                                                                                                                                                                                                                                                                                                                                                                                                                                                                                                                                                                                                                                                                                                                                                                                                                                                                                                                                                                                                                                                                                                                                                                                                                                                                                                                                                                                                                                                                                                                                                                                                                                                                                                                                                                                                                                                                                                                                                                                                                                    \n",
       "       123496  The $50 I shelled out for this game was a total waste of money. The graphics are mediocre (I'm running an Nvidia 8800 GTS, so it's not my card). Gameplay is lame, and there are bugs. The main one is the in-game Save key(F5) doesn't work.  I tried re-mapping the key, but it didn't help. Gameplay is choppy. I ran CRYSIS and BIOSHOCK with no problems. Pass this one by. Don't Buy this Game!                                                                                                                                                                                                                                                                                                                                                                                                                                                                                                                                                                                                                                                                                                                                                                                                                                                                                                                                                                                                                                                                                                                                                                                                                                                                                                                                                                                                                                                                                                                                                                                                                                                                                                                                                                                                                                                                                                                                                                              \n",
       "       118288  You purchased this item on February 27, 2012.\\n\\nI bought this keyboard and loved the looks of it and the feel of it, but I could not get Windows 7 to recognize it.\\nI downloaded the current drivers from the website.\\nI contacted the company for tech support, but got no response after 2 weeks have still not gotten a response from them.\\nThe keyboard would light up but when I tried to type something I got nothing, it was like I had nothing connected to my system.\\nI tried USB 2.0 and 3.0 slots still nothing.\\nNot sure if I got a bad keyboard or if there is something else going on. Bought it and had to return it.                                                                                                                                                                                                                                                                                                                                                                                                                                                                                                                                                                                                                                                                                                                                                                                                                                                                                                                                                                                                                                                                                                                                                                                                                                                                                                                                                                                                                                                                                                                                                                                                                                                                                                                                         \n",
       "\n",
       "              target  \n",
       "target                \n",
       "bad    455722  bad    \n",
       "       434486  bad    \n",
       "       496978  bad    \n",
       "       123496  bad    \n",
       "       118288  bad    "
      ]
     },
     "execution_count": 23,
     "metadata": {},
     "output_type": "execute_result"
    }
   ],
   "source": [
    "cat = ['bad','neutral','good']\n",
    "def cat_y(y):\n",
    "    if y<=2.0:\n",
    "        return cat[0]\n",
    "    elif y>=4.0:\n",
    "        return cat[2]\n",
    "    else:\n",
    "        return cat[1]\n",
    "\n",
    "def get_reviews(path, n_samples):\n",
    "#     dt = {}\n",
    "#     i=0\n",
    "#     with open(path) as f:\n",
    "#         for d in f.readlines():\n",
    "#             dt[i] = eval(d)\n",
    "#             i += 1\n",
    "#   df = pd.DataFrame.from_dict(dt, orient='index')[['reviewText','overall']]\n",
    "    df = data_cleaned.copy()\n",
    "    df = df[df['reviewText'].apply(lambda x: len(x.split())>=45)]\n",
    "    df['reviewText'] = df['reviewText'] + ' ' + df['summary']\n",
    "    df['target'] = df['overall'].apply(cat_y)\n",
    "    \n",
    "    df = df.groupby('target').apply(lambda x: x.sample(n=n_samples))\n",
    "    df = df.drop(['summary'], axis=1)\n",
    "    return df\n",
    "\n",
    "data = get_reviews(PATH, 10000)\n",
    "pd.set_option('display.max_colwidth', -1)\n",
    "data.head()"
   ]
  },
  {
   "cell_type": "code",
   "execution_count": 19,
   "id": "c73eb8e4",
   "metadata": {},
   "outputs": [
    {
     "data": {
      "text/plain": [
       "<AxesSubplot:>"
      ]
     },
     "execution_count": 19,
     "metadata": {},
     "output_type": "execute_result"
    },
    {
     "data": {
      "image/png": "[encoded data removed]",
      "text/plain": [
       "<Figure size 640x480 with 1 Axes>"
      ]
     },
     "metadata": {},
     "output_type": "display_data"
    }
   ],
   "source": [
    "data.bucket.hist()"
   ]
  },
  {
   "cell_type": "code",
   "execution_count": 26,
   "id": "1f0ec218",
   "metadata": {},
   "outputs": [
    {
     "name": "stderr",
     "output_type": "stream",
     "text": [
      "C:\\Users\\rov_f\\anaconda3\\lib\\site-packages\\sklearn\\feature_extraction\\text.py:396: UserWarning: Your stop_words may be inconsistent with your preprocessing. Tokenizing the stop words generated tokens ['abov', 'afterward', 'alon', 'alreadi', 'alway', 'ani', 'anoth', 'anyon', 'anyth', 'anywher', 'becam', 'becaus', 'becom', 'befor', 'besid', 'cri', 'describ', 'dure', 'els', 'elsewher', 'empti', 'everi', 'everyon', 'everyth', 'everywher', 'fifti', 'forti', 'henc', 'hereaft', 'herebi', 'howev', 'hundr', 'inde', 'mani', 'meanwhil', 'moreov', 'nobodi', 'noon', 'noth', 'nowher', 'onc', 'onli', 'otherwis', 'ourselv', 'perhap', 'pleas', 'sever', 'sinc', 'sincer', 'sixti', 'someon', 'someth', 'sometim', 'somewher', 'themselv', 'thenc', 'thereaft', 'therebi', 'therefor', 'togeth', 'twelv', 'twenti', 'veri', 'whatev', 'whenc', 'whenev', 'wherea', 'whereaft', 'wherebi', 'wherev', 'whi', 'yourselv'] not in stop_words.\n",
      "  warnings.warn(\n"
     ]
    }
   ],
   "source": [
    "stemmer = SnowballStemmer(\"english\")\n",
    "tokenizer = RegexpTokenizer(\"[a-z']+\")\n",
    "\n",
    "def tokenize(text):\n",
    "    tokens = tokenizer.tokenize(text)\n",
    "    return [stemmer.stem(t) for t in tokens] \n",
    "\n",
    "def get_tf(data, use_idf, max_df=1.0, min_df=1, ngram_range=(1,1)):\n",
    "    if use_idf:\n",
    "        m = TfidfVectorizer(max_df=max_df, min_df=min_df, stop_words='english', ngram_range=ngram_range, tokenizer=tokenize)\n",
    "    else:\n",
    "        m = CountVectorizer(max_df=max_df, min_df=min_df, stop_words='english', ngram_range=ngram_range, tokenizer=tokenize)\n",
    "    \n",
    "    d = m.fit_transform(data)\n",
    "    return m, d\n",
    "\n",
    "tf_m, tf_d = get_tf(data['reviewText'], use_idf=False, max_df=0.90, min_df=10)\n",
    "tfidf_m, tfidf_d = get_tf(data['reviewText'], use_idf=True, max_df=0.90, min_df=10)"
   ]
  },
  {
   "cell_type": "code",
   "execution_count": 24,
   "id": "789ecd24",
   "metadata": {},
   "outputs": [
    {
     "data": {
      "text/plain": [
       "((24000,), (24000,))"
      ]
     },
     "execution_count": 24,
     "metadata": {},
     "output_type": "execute_result"
    }
   ],
   "source": [
    "# X = data['reviewText']\n",
    "# y = data['target']\n",
    "\n",
    "# X_train, X_test, y_train, y_test = train_test_split(X, y, test_size=TEST_SPLIT, random_state=RANDOM_STATE)\n",
    "# X_train.shape, y_train.shape"
   ]
  },
  {
   "cell_type": "code",
   "execution_count": 27,
   "id": "efaf53da",
   "metadata": {},
   "outputs": [],
   "source": [
    "X_train, X_test, y_train, y_test = train_test_split(tfidf_d, data['target'], test_size=0.3)"
   ]
  },
  {
   "cell_type": "code",
   "execution_count": 28,
   "id": "ffbfef02",
   "metadata": {},
   "outputs": [
    {
     "name": "stdout",
     "output_type": "stream",
     "text": [
      "Model accuracy predictions\n",
      "\n",
      "LR model (bad rating): 79.7%\n",
      "LR model (neutral rating): 69.6%\n",
      "LR model (good rating): 81.4%\n",
      "\n",
      "SVM model (bad rating): 78.0%\n",
      "SVM model (neutral rating): 67.2%\n",
      "SVM model (good rating): 80.9%\n",
      "\n",
      "NB model (bad rating): 71.8%\n",
      "NB model (neutral rating): 66.6%\n",
      "NB model (good rating): 69.9%\n",
      "\n",
      "COMBINED model (bad rating): 79.3%\n",
      "COMBINED model (neutral rating): 69.4%\n",
      "COMBINED model (good rating): 81.0%\n",
      "\n"
     ]
    }
   ],
   "source": [
    "def calculate_cv(X, y):\n",
    "    results = {\n",
    "        'lr': [],\n",
    "        'svm': [],\n",
    "        'nb': [],\n",
    "        'combined': []\n",
    "    }\n",
    "    lm = LogisticRegression()\n",
    "    svm = LinearSVC()\n",
    "    nb = MultinomialNB()\n",
    "    vc = VotingClassifier([('lm', lm), ('svm', svm), ('nb', nb)])\n",
    "    \n",
    "    for c in cat:\n",
    "        y_adj = np.array(y==c)\n",
    "        results['lr'].append((cross_val_score(lm, X, y_adj, cv=10, scoring='accuracy').mean(), c))\n",
    "        results['svm'].append((cross_val_score(svm, X, y_adj, cv=10, scoring='accuracy').mean(), c))\n",
    "        results['nb'].append((cross_val_score(nb, X, y_adj, cv=10, scoring='accuracy').mean(), c))\n",
    "        results['combined'].append((cross_val_score(vc, X, y_adj, cv=10, scoring='accuracy').mean(), c))\n",
    "    return results\n",
    "\n",
    "cv_scores = calculate_cv(X_test, y_test)\n",
    "\n",
    "print(\"Model accuracy predictions\\n\")\n",
    "for m,s in cv_scores.items():\n",
    "    for ss in s:\n",
    "        print(\"{M} model ({R} rating): {S:.1%}\".format(M=m.upper(), R=ss[1], S=ss[0]))\n",
    "    print()"
   ]
  },
  {
   "cell_type": "code",
   "execution_count": 32,
   "id": "4613bf87",
   "metadata": {},
   "outputs": [
    {
     "name": "stderr",
     "output_type": "stream",
     "text": [
      "C:\\Users\\rov_f\\anaconda3\\lib\\site-packages\\sklearn\\linear_model\\_logistic.py:814: ConvergenceWarning: lbfgs failed to converge (status=1):\n",
      "STOP: TOTAL NO. of ITERATIONS REACHED LIMIT.\n",
      "\n",
      "Increase the number of iterations (max_iter) or scale the data as shown in:\n",
      "    https://scikit-learn.org/stable/modules/preprocessing.html\n",
      "Please also refer to the documentation for alternative solver options:\n",
      "    https://scikit-learn.org/stable/modules/linear_model.html#logistic-regression\n",
      "  n_iter_i = _check_optimize_result(\n"
     ]
    }
   ],
   "source": [
    "def get_lr(x, y):\n",
    "    models = []\n",
    "    for c in cat:\n",
    "        y_adj = np.array(y==c)\n",
    "        lm = LogisticRegression()\n",
    "        lm_f = lm.fit(x, y_adj)\n",
    "        models.append(lm_f)\n",
    "    return models\n",
    "\n",
    "lr_m = get_lr(X_train, y_train)"
   ]
  },
  {
   "cell_type": "code",
   "execution_count": 30,
   "id": "4c29e8b8",
   "metadata": {},
   "outputs": [],
   "source": [
    "def test_review(text):\n",
    "    test_str = [text]\n",
    "    test_new = tfidf_m.transform(test_str)\n",
    "\n",
    "    print('Review text: \"{R}\"\\n'.format(R=test_str[0]))\n",
    "    print('Model Predction')\n",
    "    for m in range(0,3):\n",
    "        print('Model ({M}): {P:.1%}'.format(M=cat[m], P=lr_m[m].predict_proba(test_new)[0][1]))"
   ]
  },
  {
   "cell_type": "code",
   "execution_count": 35,
   "id": "8aba80f1",
   "metadata": {},
   "outputs": [
    {
     "name": "stdout",
     "output_type": "stream",
     "text": [
      "Review text: \"I enjoyed the gameplay a lot.\"\n",
      "\n",
      "Model Predction\n",
      "Model (bad): 3.3%\n",
      "Model (neutral): 37.6%\n",
      "Model (good): 68.7%\n"
     ]
    }
   ],
   "source": [
    "test_review('I enjoyed the gameplay a lot.')"
   ]
  },
  {
   "cell_type": "code",
   "execution_count": null,
   "id": "263a0aa4",
   "metadata": {},
   "outputs": [],
   "source": []
  }
 ],
 "metadata": {
  "kernelspec": {
   "display_name": "Python 3 (ipykernel)",
   "language": "python",
   "name": "python3"
  },
  "language_info": {
   "codemirror_mode": {
    "name": "ipython",
    "version": 3
   },
   "file_extension": ".py",
   "mimetype": "text/x-python",
   "name": "python",
   "nbconvert_exporter": "python",
   "pygments_lexer": "ipython3",
   "version": "3.9.13"
  }
 },
 "nbformat": 4,
 "nbformat_minor": 5
}
